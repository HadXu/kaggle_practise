{
 "cells": [
  {
   "cell_type": "markdown",
   "metadata": {},
   "source": [
    "# 2018-04-05 特征提取"
   ]
  },
  {
   "cell_type": "code",
   "execution_count": 3,
   "metadata": {
    "collapsed": true
   },
   "outputs": [],
   "source": [
    "import pandas as pd\n",
    "import numpy as np\n",
    "import seaborn as sns\n",
    "\n",
    "sns.set()\n",
    "%matplotlib inline\n",
    "\n",
    "train = pd.read_csv('round1_ijcai_18_train_20180301.txt',delimiter=' ')\n",
    "example = train.copy()"
   ]
  },
  {
   "cell_type": "code",
   "execution_count": 4,
   "metadata": {},
   "outputs": [
    {
     "name": "stdout",
     "output_type": "stream",
     "text": [
      "<class 'pandas.core.frame.DataFrame'>\n",
      "RangeIndex: 478138 entries, 0 to 478137\n",
      "Data columns (total 27 columns):\n",
      "instance_id                  478138 non-null int64\n",
      "item_id                      478138 non-null int64\n",
      "item_category_list           478138 non-null object\n",
      "item_property_list           478138 non-null object\n",
      "item_brand_id                478138 non-null int64\n",
      "item_city_id                 478138 non-null int64\n",
      "item_price_level             478138 non-null int64\n",
      "item_sales_level             478138 non-null int64\n",
      "item_collected_level         478138 non-null int64\n",
      "item_pv_level                478138 non-null int64\n",
      "user_id                      478138 non-null int64\n",
      "user_gender_id               478138 non-null int64\n",
      "user_age_level               478138 non-null int64\n",
      "user_occupation_id           478138 non-null int64\n",
      "user_star_level              478138 non-null int64\n",
      "context_id                   478138 non-null int64\n",
      "context_timestamp            478138 non-null int64\n",
      "context_page_id              478138 non-null int64\n",
      "predict_category_property    478138 non-null object\n",
      "shop_id                      478138 non-null int64\n",
      "shop_review_num_level        478138 non-null int64\n",
      "shop_review_positive_rate    478138 non-null float64\n",
      "shop_star_level              478138 non-null int64\n",
      "shop_score_service           478138 non-null float64\n",
      "shop_score_delivery          478138 non-null float64\n",
      "shop_score_description       478138 non-null float64\n",
      "is_trade                     478138 non-null int64\n",
      "dtypes: float64(4), int64(20), object(3)\n",
      "memory usage: 98.5+ MB\n"
     ]
    }
   ],
   "source": [
    "train.info()"
   ]
  },
  {
   "cell_type": "markdown",
   "metadata": {},
   "source": [
    "1. instance_id 样本编号\n",
    "2. item_id 广告商品编号\n",
    "3. item_category_list 广告商品的的类目列表，String类型；从根类目（最粗略的一级类目）向叶子类目（最精细的类目）依次排列，数据拼接格式为 \"category_0;category_1;category_2\"，其中 category_1 是 category_0 的子类目，category_2 是 category_1 的子类目\n",
    "4. item_property_list 广告商品的属性列表，String类型；数据拼接格式为 \"property_0;property_1;property_2\"，各个属性没有从属关系\n",
    "5. item_brand_id 广告商品的品牌编号\n",
    "6. item_city_id 广告商品的城市编号\n",
    "7. item_price_level 广告商品的价格等级\n",
    "8. item_sales_level 广告商品的销量等级\n",
    "9. item_collected_level  广告商品被收藏次数的等级\n",
    "10. item_pv_level 广告商品被展示次数的等级\n",
    "11. user_id 用户的编号\n",
    "12. user_gender_id 用户的预测性别编号\n",
    "13. user_age_level 用户的预测年龄等级\n",
    "14. user_occupation_id 用户的预测职业编号\n",
    "15. user_star_level 用户的星级编号\n",
    "16. context_id 上下文信息的编号\n",
    "17. context_timestamp 广告商品的展示时间\n",
    "18. context_page_id  广告商品的展示页面编号\n",
    "19. predict_category_property 根据查询词预测的类目属性列表\n",
    "20. shop_id 店铺的编号\n",
    "21. shop_review_num_level 店铺的评价数量等级\n",
    "22. shop_review_positive_rate  店铺的好评率\n",
    "23. shop_star_level 店铺的星级编号\n",
    "24. shop_score_service 店铺的服务态度评分\n",
    "25. shop_score_delivery 店铺的物流服务评分 \n",
    "26. shop_score_description 店铺的描述相符评分\n",
    "27. is_trade 是否被转化"
   ]
  },
  {
   "cell_type": "code",
   "execution_count": 67,
   "metadata": {},
   "outputs": [
    {
     "data": {
      "text/plain": [
       "count    478138.000000\n",
       "mean          0.974863\n",
       "std           0.025024\n",
       "min          -1.000000\n",
       "25%           0.969268\n",
       "50%           0.978493\n",
       "75%           0.983640\n",
       "max           1.000000\n",
       "Name: shop_score_description, dtype: float64"
      ]
     },
     "execution_count": 67,
     "metadata": {},
     "output_type": "execute_result"
    }
   ],
   "source": [
    "example['shop_score_description'].describe()"
   ]
  },
  {
   "cell_type": "code",
   "execution_count": 76,
   "metadata": {
    "collapsed": true
   },
   "outputs": [],
   "source": [
    "example['shop_score_description_int'] = np.where(example['shop_score_description']>=0.5,1,0)"
   ]
  },
  {
   "cell_type": "code",
   "execution_count": 77,
   "metadata": {},
   "outputs": [
    {
     "data": {
      "text/html": [
       "<div>\n",
       "<style>\n",
       "    .dataframe thead tr:only-child th {\n",
       "        text-align: right;\n",
       "    }\n",
       "\n",
       "    .dataframe thead th {\n",
       "        text-align: left;\n",
       "    }\n",
       "\n",
       "    .dataframe tbody tr th {\n",
       "        vertical-align: top;\n",
       "    }\n",
       "</style>\n",
       "<table border=\"1\" class=\"dataframe\">\n",
       "  <thead>\n",
       "    <tr style=\"text-align: right;\">\n",
       "      <th></th>\n",
       "      <th>shop_review_positive_rate_int</th>\n",
       "      <th>is_trade</th>\n",
       "      <th>percent</th>\n",
       "    </tr>\n",
       "  </thead>\n",
       "  <tbody>\n",
       "    <tr>\n",
       "      <th>0</th>\n",
       "      <td>0</td>\n",
       "      <td>0</td>\n",
       "      <td>0.429418</td>\n",
       "    </tr>\n",
       "    <tr>\n",
       "      <th>1</th>\n",
       "      <td>0</td>\n",
       "      <td>1</td>\n",
       "      <td>0.009150</td>\n",
       "    </tr>\n",
       "    <tr>\n",
       "      <th>2</th>\n",
       "      <td>1</td>\n",
       "      <td>0</td>\n",
       "      <td>0.551715</td>\n",
       "    </tr>\n",
       "    <tr>\n",
       "      <th>3</th>\n",
       "      <td>1</td>\n",
       "      <td>1</td>\n",
       "      <td>0.009717</td>\n",
       "    </tr>\n",
       "  </tbody>\n",
       "</table>\n",
       "</div>"
      ],
      "text/plain": [
       "   shop_review_positive_rate_int  is_trade   percent\n",
       "0                              0         0  0.429418\n",
       "1                              0         1  0.009150\n",
       "2                              1         0  0.551715\n",
       "3                              1         1  0.009717"
      ]
     },
     "execution_count": 77,
     "metadata": {},
     "output_type": "execute_result"
    }
   ],
   "source": [
    "percent = example.groupby(['shop_review_positive_rate_int','is_trade']).size().transform(lambda x: x/sum(x)).reset_index().rename(columns={0:'percent'})\n",
    "percent"
   ]
  },
  {
   "cell_type": "code",
   "execution_count": 87,
   "metadata": {},
   "outputs": [
    {
     "data": {
      "text/plain": [
       "array([0, 0, 0, ..., 0, 0, 0])"
      ]
     },
     "execution_count": 87,
     "metadata": {},
     "output_type": "execute_result"
    }
   ],
   "source": [
    "np.where(example['user_star_level']==3002|3003|3004|3005|3006,1,0)"
   ]
  },
  {
   "cell_type": "markdown",
   "metadata": {},
   "source": [
    "### 特征处理函数"
   ]
  },
  {
   "cell_type": "code",
   "execution_count": 98,
   "metadata": {},
   "outputs": [],
   "source": [
    "import time\n",
    "def timestamp_datetime(value):\n",
    "    format = '%Y-%m-%d %H:%M:%S'\n",
    "    value = time.localtime(value)\n",
    "    dt = time.strftime(format,value)\n",
    "    return dt\n",
    "\n",
    "def process(data):\n",
    "    data['item_id_hash'] = data['item_id'].apply(lambda x:hash(x)%1000000)\n",
    "    data['item_brand_id_hash'] = data['item_brand_id'].apply(lambda x:hash(x)%1000000)\n",
    "    data['item_city_id_hash'] = data['item_city_id'].apply(lambda x:hash(x)%1000000)\n",
    "    data['item_price_level_7'] = np.where(data['item_price_level']==7,1,0)\n",
    "    data['item_sales_level_11_12_13'] = np.where(data['item_sales_level']==11|12|13,1,0)\n",
    "    data['item_collected_level_12_13_14'] = np.where(data['item_collected_level']==14|12|13,1,0)\n",
    "    data['item_pv_level_17_18'] = np.where(data['item_pv_level']==17|18,1,0)\n",
    "    data['user_id_hash'] = data['user_id'].apply(lambda x:hash(x)%1000000)\n",
    "    data['user_gender_id_0'] = np.where(data['user_gender_id']==0,1,0)\n",
    "    data['user_age_level_1003_1004'] = np.where(data['user_age_level']==1003|1004,1,0)\n",
    "    data['user_occupation_id_2005'] = np.where(data['user_occupation_id']==2005,1,0)\n",
    "    data['user_star_level_3002_3007'] = np.where(data['user_star_level']==3002|3003|3004|3005|3006|3007,1,0)\n",
    "    data['context_id_hash'] = data['context_id'].apply(lambda x:hash(x)%1000000)\n",
    "    \n",
    "    \n",
    "    \n",
    "    data['time'] = data['context_timestamp'].apply(timestamp_datetime)\n",
    "    data['day'] = data['time'].apply(lambda x: int(x[8:10]))\n",
    "    data['hour'] = data['time'].apply(lambda x: int(x[11:13]))\n",
    "    user_query_day = data.groupby(['user_id','day']).size().reset_index().rename(columns={0:'user_query_day'})\n",
    "    data = pd.merge(data, user_query_day,'left',on=['user_id', 'day'])\n",
    "    \n",
    "    user_query_day_hour = data.groupby(['user_id', 'day', 'hour']).size().reset_index().rename(\n",
    "        columns={0: 'user_query_day_hour'})\n",
    "    \n",
    "    data = pd.merge(data, user_query_day_hour, 'left',\n",
    "                    on=['user_id', 'day', 'hour'])\n",
    "    \n",
    "    \n",
    "    data['context_page_id_hash'] = data['context_page_id'].apply(lambda x:hash(x)%1000000)\n",
    "    data['shop_id_hash'] = data['shop_id'].apply(lambda x:hash(x)%1000000)\n",
    "    \n",
    "    data['shop_review_num_level_16_17'] = np.where(data['shop_review_num_level']==16|17,1,0)\n",
    "    \n",
    "    data['shop_review_positive_rate_1'] = np.where(data['shop_review_positive_rate']>=1., 1, 0)\n",
    "    \n",
    "    data['shop_star_level_5013_5014'] = np.where(data['shop_review_num_level']==5013|5014,1,0)\n",
    "    \n",
    "    data['shop_score_service_1'] = np.where(data['shop_score_service']>=1., 1, 0)\n",
    "    data['shop_score_delivery_1'] = np.where(data['shop_score_delivery']>=1., 1, 0)\n",
    "    data['shop_score_description_1'] = np.where(data['shop_score_description']>=1., 1, 0)\n",
    "    \n",
    "    return data"
   ]
  },
  {
   "cell_type": "code",
   "execution_count": 99,
   "metadata": {
    "collapsed": true
   },
   "outputs": [],
   "source": [
    "import lightgbm as lgb\n",
    "from sklearn.metrics import log_loss"
   ]
  },
  {
   "cell_type": "code",
   "execution_count": 100,
   "metadata": {
    "collapsed": true
   },
   "outputs": [],
   "source": [
    "data = process(train)"
   ]
  },
  {
   "cell_type": "code",
   "execution_count": 122,
   "metadata": {
    "collapsed": true
   },
   "outputs": [],
   "source": [
    "train_ = data.loc[data.day < 24]\n",
    "test_ = data.loc[data.day == 24]"
   ]
  },
  {
   "cell_type": "code",
   "execution_count": 123,
   "metadata": {},
   "outputs": [],
   "source": [
    "feature = ['item_id_hash','item_brand_id_hash','item_city_id_hash','item_price_level_7','item_sales_level_11_12_13',\n",
    "              'item_collected_level_12_13_14','item_pv_level_17_18','user_id_hash','user_gender_id_0','user_age_level_1003_1004',\n",
    "              'user_occupation_id_2005','user_star_level_3002_3007','context_id_hash','user_query_day',\n",
    "              'user_query_day_hour','context_page_id_hash','shop_id_hash','shop_review_num_level_16_17',\n",
    "              'shop_review_positive_rate_1','shop_star_level_5013_5014','shop_score_service_1',\n",
    "              'shop_score_delivery_1','shop_score_description_1']\n",
    "target = ['is_trade']"
   ]
  },
  {
   "cell_type": "code",
   "execution_count": 136,
   "metadata": {
    "collapsed": true
   },
   "outputs": [],
   "source": [
    "clf = lgb.LGBMClassifier(num_leaves=31, max_depth=7, n_estimators=80, n_jobs=-1)"
   ]
  },
  {
   "cell_type": "code",
   "execution_count": 137,
   "metadata": {},
   "outputs": [
    {
     "name": "stderr",
     "output_type": "stream",
     "text": [
      "/Users/haxu/anaconda3/envs/kaggle/lib/python3.6/site-packages/sklearn/preprocessing/label.py:95: DataConversionWarning: A column-vector y was passed when a 1d array was expected. Please change the shape of y to (n_samples, ), for example using ravel().\n",
      "  y = column_or_1d(y, warn=True)\n",
      "/Users/haxu/anaconda3/envs/kaggle/lib/python3.6/site-packages/sklearn/preprocessing/label.py:128: DataConversionWarning: A column-vector y was passed when a 1d array was expected. Please change the shape of y to (n_samples, ), for example using ravel().\n",
      "  y = column_or_1d(y, warn=True)\n"
     ]
    },
    {
     "data": {
      "text/plain": [
       "LGBMClassifier(boosting_type='gbdt', class_weight=None, colsample_bytree=1.0,\n",
       "        learning_rate=0.1, max_depth=7, min_child_samples=20,\n",
       "        min_child_weight=0.001, min_split_gain=0.0, n_estimators=80,\n",
       "        n_jobs=-1, num_leaves=31, objective=None, random_state=None,\n",
       "        reg_alpha=0.0, reg_lambda=0.0, silent=True, subsample=1.0,\n",
       "        subsample_for_bin=200000, subsample_freq=1)"
      ]
     },
     "execution_count": 137,
     "metadata": {},
     "output_type": "execute_result"
    }
   ],
   "source": [
    "clf.fit(train_[feature],train_[target])"
   ]
  },
  {
   "cell_type": "code",
   "execution_count": 138,
   "metadata": {},
   "outputs": [],
   "source": [
    "res = clf.predict_proba(test_[feature],)[:, 1]"
   ]
  },
  {
   "cell_type": "code",
   "execution_count": 139,
   "metadata": {},
   "outputs": [
    {
     "name": "stdout",
     "output_type": "stream",
     "text": [
      "0.0835065551289\n"
     ]
    }
   ],
   "source": [
    "print(log_loss(test_[target], res))"
   ]
  },
  {
   "cell_type": "code",
   "execution_count": 140,
   "metadata": {
    "collapsed": true
   },
   "outputs": [],
   "source": [
    "test = pd.read_csv('round1_ijcai_18_test_a_20180301.txt',sep=' ')"
   ]
  },
  {
   "cell_type": "code",
   "execution_count": 142,
   "metadata": {
    "collapsed": true
   },
   "outputs": [],
   "source": [
    "test = process(test)"
   ]
  },
  {
   "cell_type": "code",
   "execution_count": 144,
   "metadata": {},
   "outputs": [],
   "source": [
    "test['predicted_score'] = clf.predict_proba(test[feature],)[:, 1]"
   ]
  },
  {
   "cell_type": "code",
   "execution_count": 145,
   "metadata": {
    "collapsed": true
   },
   "outputs": [],
   "source": [
    "test[['instance_id', 'predicted_score']].to_csv('2018-04-05.csv',sep=' ', index=False)"
   ]
  },
  {
   "cell_type": "code",
   "execution_count": null,
   "metadata": {
    "collapsed": true
   },
   "outputs": [],
   "source": []
  }
 ],
 "metadata": {
  "kernelspec": {
   "display_name": "Python 3",
   "language": "python",
   "name": "python3"
  },
  "language_info": {
   "codemirror_mode": {
    "name": "ipython",
    "version": 3
   },
   "file_extension": ".py",
   "mimetype": "text/x-python",
   "name": "python",
   "nbconvert_exporter": "python",
   "pygments_lexer": "ipython3",
   "version": "3.6.2"
  }
 },
 "nbformat": 4,
 "nbformat_minor": 2
}
